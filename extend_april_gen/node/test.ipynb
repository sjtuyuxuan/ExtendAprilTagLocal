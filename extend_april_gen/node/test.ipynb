{
 "cells": [
  {
   "cell_type": "code",
   "execution_count": 50,
   "id": "8e71e997",
   "metadata": {},
   "outputs": [
    {
     "name": "stdout",
     "output_type": "stream",
     "text": [
      "{'TagFamily': 'tag16h5', 'ImagePath': 'tag_image/', 'ImageCount': 30, 'GenTags': [0, 1, 2], 'GenPath': 'gen_tags/', 0: {'File': 'tag16h5_0.png', 'Size': 100, 'Canvas': [1000, 1000], 'Extand_Dot': [[400, 0, 50], [0, 400, 50], [-400, 0, 50], [0, -400, 50]], 'Pixpermm': 10}, 1: {'File': 'tag16h5_1.png', 'Size': 100, 'Canvas': [600, 1000], 'Extand_Dot': [[200, 0, 20], [0, 400, 40], [-200, 0, 20], [0, -400, 40]], 'Pixpermm': 5}, 2: {'File': 'tag16h5_2.png', 'Size': 100, 'Canvas': [600, 600], 'Extand_Dot': [[200, 200, 20], [-200, -200, 20], [-200, 200, 20], [200, -200, 20]], 'Pixpermm': 2}}\n"
     ]
    }
   ],
   "source": [
    "import cv2\n",
    "import apriltag\n",
    "import numpy as np\n",
    "import yaml\n",
    "fs = open((\"config.yaml\"),encoding=\"UTF-8\")\n",
    "datas = yaml.load(fs,Loader=yaml.FullLoader)"
   ]
  },
  {
   "cell_type": "code",
   "execution_count": 46,
   "id": "9fe274f9",
   "metadata": {},
   "outputs": [],
   "source": [
    "for i in range(30):\n",
    "    img_path = \"tag_image/tag16h5_\" + str(i) + \".png\"\n",
    "    RGB_IMG = cv2.imread(img_path)\n",
    "    crop = RGB_IMG[153:663, 153:663]\n",
    "    resize = cv2.resize(crop, (1000, 1000), interpolation=cv2.INTER_NEAREST)\n",
    "    cv2.imwrite(\"new_tag/tag16h5_\"+ str(i) +\".png\", resize)\n",
    "\n"
   ]
  },
  {
   "cell_type": "code",
   "execution_count": 51,
   "id": "48de4e53",
   "metadata": {},
   "outputs": [],
   "source": [
    "for i in datas[\"GenTags\"]:\n",
    "    tag = cv2.imread(datas[\"ImagePath\"] + datas[i][\"File\"])\n",
    "    resize = cv2.resize(tag, (datas[i][\"Size\"] * datas[i][\"Pixpermm\"] ,datas[i][\"Size\"] * datas[i][\"Pixpermm\"]), interpolation=cv2.INTER_NEAREST)\n",
    "    canvas = np.zeros((datas[i][\"Canvas\"][0] * datas[i][\"Pixpermm\"], datas[i][\"Canvas\"][1] * datas[i][\"Pixpermm\"], 3),dtype=np.uint8)\n",
    "    canvas = ~canvas\n",
    "    start_x = int(datas[i][\"Canvas\"][0] * datas[i][\"Pixpermm\"]/2 - datas[i][\"Size\"] * datas[i][\"Pixpermm\"]/2)\n",
    "    end_x = int(datas[i][\"Canvas\"][0] * datas[i][\"Pixpermm\"]/2 + datas[i][\"Size\"] * datas[i][\"Pixpermm\"]/2)\n",
    "    start_y = int(datas[i][\"Canvas\"][1] * datas[i][\"Pixpermm\"]/2 - datas[i][\"Size\"] * datas[i][\"Pixpermm\"]/2)\n",
    "    end_y = int(datas[i][\"Canvas\"][1] * datas[i][\"Pixpermm\"]/2 + datas[i][\"Size\"] * datas[i][\"Pixpermm\"]/2)\n",
    "    canvas[start_x:end_x, start_y:end_y] = resize\n",
    "    for dot in datas[i][\"Extand_Dot\"]:\n",
    "        center_x = int((datas[i][\"Canvas\"][0]/2 + dot[0]) * datas[i][\"Pixpermm\"])\n",
    "        center_y = int((datas[i][\"Canvas\"][1]/2 + dot[1]) * datas[i][\"Pixpermm\"])\n",
    "        radius = dot[2] * datas[i][\"Pixpermm\"]\n",
    "        cv2.circle(canvas, (center_y, center_x), radius, (0, 0, 0), -1)\n",
    "    cv2.imwrite(datas[\"GenPath\"] + datas[i][\"File\"], canvas)\n",
    "    \n",
    "    "
   ]
  },
  {
   "cell_type": "code",
   "execution_count": 68,
   "id": "5c46912c",
   "metadata": {},
   "outputs": [],
   "source": [
    "img_path = r'/Users/yuxuan/Documents/test/1.png'\n",
    "RGB_IMG = cv2.imread(img_path)\n",
    "Fliped = np.zeros((480, 640, 3),dtype=np.uint8)\n",
    "cv2.flip(RGB_IMG, 0, Fliped)\n",
    "GaryImg = cv2.cvtColor(Fliped, cv2.COLOR_BGR2GRAY)\n",
    "# cv2.imshow('test',GaryImg)\n",
    "# cv2.waitKey(5000)"
   ]
  },
  {
   "cell_type": "code",
   "execution_count": 69,
   "id": "297de70f",
   "metadata": {},
   "outputs": [],
   "source": [
    "BlurGary = cv2.GaussianBlur(GaryImg, (7, 7), 1.2)\n",
    "cv2.imwrite(\"/Users/yuxuan/Documents/test/GaussianBlur_2.png\", BlurGary)\n",
    "cv2.imshow('test',BlurGary)\n",
    "cv2.waitKey(1000)\n",
    "\n",
    "options = apriltag.DetectorOptions(families=\"tag16h5\",nthreads=1)\n",
    "detector = apriltag.Detector(options)\n",
    "results = detector.detect(BlurGary)"
   ]
  },
  {
   "cell_type": "code",
   "execution_count": 4,
   "id": "976d62c1",
   "metadata": {},
   "outputs": [
    {
     "data": {
      "text/plain": [
       "[Detection(tag_family=b'tag16h5', tag_id=0, hamming=0, goodness=0.0, decision_margin=85.83958435058594, homography=array([[-3.51779560e-03, -4.34790321e-01, -1.73754450e+01],\n",
       "        [ 7.80618568e-01,  9.00301379e-02, -1.35020163e+01],\n",
       "        [ 3.05824414e-04,  7.60322828e-04, -5.06531687e-02]]), center=array([343.02779897, 266.55817679]), corners=array([[327.48184204, 277.89743042],\n",
       "        [331.53875732, 250.67526245],\n",
       "        [359.24224854, 254.73132324],\n",
       "        [354.72488403, 282.72869873]]))]"
      ]
     },
     "execution_count": 4,
     "metadata": {},
     "output_type": "execute_result"
    }
   ],
   "source": [
    "results"
   ]
  },
  {
   "cell_type": "code",
   "execution_count": 65,
   "id": "0bdab82b",
   "metadata": {},
   "outputs": [
    {
     "name": "stdout",
     "output_type": "stream",
     "text": [
      "[INFO] tag family: tag16h5\n"
     ]
    },
    {
     "data": {
      "text/plain": [
       "115"
      ]
     },
     "execution_count": 65,
     "metadata": {},
     "output_type": "execute_result"
    }
   ],
   "source": [
    "for r in results:\n",
    "\t# extract the bounding box (x, y)-coordinates for the AprilTag\n",
    "\t# and convert each of the (x, y)-coordinate pairs to integers\n",
    "\t(ptA, ptB, ptC, ptD) = r.corners\n",
    "\tptB = (int(ptB[0]), int(ptB[1]))\n",
    "\tptC = (int(ptC[0]), int(ptC[1]))\n",
    "\tptD = (int(ptD[0]), int(ptD[1]))\n",
    "\tptA = (int(ptA[0]), int(ptA[1]))\n",
    "\t# draw the bounding box of the AprilTag detection\n",
    "\tcv2.line(Fliped, ptA, ptB, (0, 255, 0), 2)\n",
    "\tcv2.line(Fliped, ptB, ptC, (0, 255, 0), 2)\n",
    "\tcv2.line(Fliped, ptC, ptD, (0, 255, 0), 2)\n",
    "\tcv2.line(Fliped, ptD, ptA, (0, 255, 0), 2)\n",
    "\t# draw the center (x, y)-coordinates of the AprilTag\n",
    "\t(cX, cY) = (int(r.center[0]), int(r.center[1]))\n",
    "\tcv2.circle(Fliped, (cX, cY), 5, (0, 0, 255), -1)\n",
    "\t# draw the tag family on the image\n",
    "\ttagFamily = r.tag_family.decode(\"utf-8\")\n",
    "\t# cv2.putText(Fliped, tagFamily, (ptA[0], ptA[1] - 15),\n",
    "\t# \tcv2.FONT_HERSHEY_SIMPLEX, 0.5, (0, 255, 0), 2)\n",
    "\tprint(\"[INFO] tag family: {}\".format(tagFamily))\n",
    "# show the output image after AprilTag detection\n",
    "cv2.imwrite(\"/Users/yuxuan/Documents/test/Tag_1.png\", Fliped)\n",
    "cv2.imshow(\"Image\", Fliped)\n",
    "cv2.waitKey(0)\n",
    "\n"
   ]
  },
  {
   "cell_type": "code",
   "execution_count": 66,
   "id": "f769e056",
   "metadata": {},
   "outputs": [
    {
     "data": {
      "text/plain": [
       "115"
      ]
     },
     "execution_count": 66,
     "metadata": {},
     "output_type": "execute_result"
    }
   ],
   "source": [
    "import math\n",
    "dis = (results[0].corners[0][0] - results[0].corners[1][0]) ** 2 + (results[0].corners[0][1] - results[0].corners[1][1]) ** 2 +\\\n",
    "    (results[0].corners[2][0] - results[0].corners[1][0]) ** 2 + (results[0].corners[2][1] - results[0].corners[1][1]) ** 2 +\\\n",
    "    (results[0].corners[2][0] - results[0].corners[3][0]) ** 2 + (results[0].corners[2][1] - results[0].corners[3][1]) ** 2 +\\\n",
    "    (results[0].corners[0][0] - results[0].corners[3][0]) ** 2 + (results[0].corners[0][1] - results[0].corners[3][1]) ** 2\n",
    "side = math.sqrt(dis / 4) \n",
    "\n",
    "(ptA, ptB, ptC, ptD) = results[0].corners\n",
    "center = np.array(results[0].center)\n",
    "\n",
    "ptA = np.array(ptA)\n",
    "ptB = np.array(ptB)\n",
    "ptC = np.array(ptC)\n",
    "ptD = np.array(ptD)\n",
    "Side_A = (ptB - ptA + ptC - ptD) / 2\n",
    "Side_B = (ptB + ptA - ptC - ptD) / 2\n",
    "circle_1 = center - 8/5 * Side_A\n",
    "circle_2 = center + 8/5 * Side_A\n",
    "circle_3 = center - 8/5 * Side_B\n",
    "circle_4 = center + 8/5 * Side_B\n",
    "\n",
    "cv2.circle(Fliped, (int(circle_1[0]), int(circle_1[1])), 25, (0, 0, 255), 2)\n",
    "cv2.circle(Fliped, (int(circle_2[0]), int(circle_2[1])), 25, (0, 0, 255), 2)\n",
    "cv2.circle(Fliped, (int(circle_3[0]), int(circle_3[1])), 25, (0, 0, 255), 2)\n",
    "cv2.circle(Fliped, (int(circle_4[0]), int(circle_4[1])), 25, (0, 0, 255), 2)\n",
    "\n",
    "cv2.imwrite(\"/Users/yuxuan/Documents/test/Range_1.png\", Fliped)\n",
    "cv2.imshow(\"Image\", Fliped)\n",
    "cv2.waitKey(0)\n"
   ]
  },
  {
   "cell_type": "code",
   "execution_count": 67,
   "id": "9940a3d7",
   "metadata": {},
   "outputs": [
    {
     "data": {
      "text/plain": [
       "115"
      ]
     },
     "execution_count": 67,
     "metadata": {},
     "output_type": "execute_result"
    }
   ],
   "source": [
    "serach_area = int (side / 2)\n",
    "\n",
    "\n",
    "thres = 100\n",
    "for c in [circle_1, circle_2, circle_3, circle_4]:\n",
    "    point_x =[]\n",
    "    point_y = []\n",
    "    for i in range(int(c[0]) - serach_area, int(c[0]) + serach_area + 1):\n",
    "        for j in range(int(c[1]) - serach_area, int(c[1]) + serach_area + 1):\n",
    "            if  BlurGary[j][i] < thres:\n",
    "                point_x.append(i)\n",
    "                point_y.append(j)\n",
    "    cv2.circle(Fliped, (int(np.array(point_x).mean()), int(np.array(point_y).mean())), 2, (0, 255, 0), 2)\n",
    "\n",
    "cv2.imwrite(\"/Users/yuxuan/Documents/test/Refined_1.png\", Fliped)\n",
    "cv2.imshow(\"Image\", Fliped)\n",
    "cv2.waitKey(0)\n"
   ]
  },
  {
   "cell_type": "code",
   "execution_count": 47,
   "id": "ccee63a1",
   "metadata": {},
   "outputs": [
    {
     "data": {
      "text/plain": [
       "(480, 640)"
      ]
     },
     "execution_count": 47,
     "metadata": {},
     "output_type": "execute_result"
    }
   ],
   "source": [
    "BlurGary.shape"
   ]
  },
  {
   "cell_type": "code",
   "execution_count": null,
   "id": "dbf9cb95",
   "metadata": {},
   "outputs": [],
   "source": []
  }
 ],
 "metadata": {
  "interpreter": {
   "hash": "40d3a090f54c6569ab1632332b64b2c03c39dcf918b08424e98f38b5ae0af88f"
  },
  "kernelspec": {
   "display_name": "Python 3.9.12 ('base')",
   "language": "python",
   "name": "python3"
  },
  "language_info": {
   "codemirror_mode": {
    "name": "ipython",
    "version": 3
   },
   "file_extension": ".py",
   "mimetype": "text/x-python",
   "name": "python",
   "nbconvert_exporter": "python",
   "pygments_lexer": "ipython3",
   "version": "3.9.12"
  }
 },
 "nbformat": 4,
 "nbformat_minor": 5
}
